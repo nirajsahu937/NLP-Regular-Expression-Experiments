{
  "nbformat": 4,
  "nbformat_minor": 0,
  "metadata": {
    "colab": {
      "provenance": []
    },
    "kernelspec": {
      "name": "python3",
      "display_name": "Python 3"
    },
    "language_info": {
      "name": "python"
    }
  },
  "cells": [
    {
      "cell_type": "code",
      "execution_count": null,
      "metadata": {
        "colab": {
          "base_uri": "https://localhost:8080/"
        },
        "id": "3Kdy4kOHZXFM",
        "outputId": "f16b1e9f-4fad-45b1-fd79-c6cff45d5bf0"
      },
      "outputs": [
        {
          "output_type": "stream",
          "name": "stdout",
          "text": [
            "<re.Match object; span=(0, 5), match='India'>\n",
            "India\n"
          ]
        }
      ],
      "source": [
        "# 1. re.match(pattern, string)\n",
        "#The re.match function returns a match object on success and none on failure.\n",
        "import re\n",
        "\n",
        "#match a word at the beginning of a string\n",
        "\n",
        "result = re.match('India',r'India data Analytics Vidhya is the largest data data science community of India')\n",
        "print(result)\n",
        "print(result.group()) #returns the total matches"
      ]
    },
    {
      "cell_type": "code",
      "source": [
        "# 2. re.search(pattern, string)\n",
        "# Matches the first occurrence of a pattern in the entire string(and not just at the beginning).\n",
        "# search for the pattern \"founded\" in a given string\n",
        "\n",
        "result = re.search('founded',r'Andrew NG founded Coursera. He also founded deeplearning.ai')\n",
        "print(result.group())#as u can se search is done in whole sentences not only first letter"
      ],
      "metadata": {
        "colab": {
          "base_uri": "https://localhost:8080/"
        },
        "id": "jBkbKAmabALP",
        "outputId": "c60dbb10-b8f9-4872-c705-5fac40cbf6b3"
      },
      "execution_count": null,
      "outputs": [
        {
          "output_type": "stream",
          "name": "stdout",
          "text": [
            "founded\n"
          ]
        }
      ]
    },
    {
      "cell_type": "code",
      "source": [
        "#3. re.findall(pattern, string)\n",
        "#It will return all the occurrences of the pattern from the string. I would recommend you to use re.findall() always, it can work like both re.search() and re.match().\n",
        "result = re.findall('He',r'Andrew NG He founded Coursera. He also founded deeplearning.ai')\n",
        "print(result) #thisis combination of both search and result in will search in whole sentence and how many present in it\n"
      ],
      "metadata": {
        "colab": {
          "base_uri": "https://localhost:8080/"
        },
        "id": "yMCDsiNSbemS",
        "outputId": "e9274e5c-4a15-49cc-b368-913b42b24dc1"
      },
      "execution_count": null,
      "outputs": [
        {
          "output_type": "stream",
          "name": "stdout",
          "text": [
            "['He', 'He']\n"
          ]
        }
      ]
    },
    {
      "cell_type": "code",
      "source": [
        "# 1. \\b  (\\b is use to find word which start or end with that searching word as example use is'est')\n",
        "# \\b returns a match where the specified pattern is at the beginning or at the end of a word.\n",
        "str = r'Analytics Vidhya is the largest Analytics community of India'\n",
        "\n",
        "#Check if there is any word that ends with \"est\"\n",
        "\n",
        "x = re.findall(r\"est\\b\", str)\n",
        "print(x)\n",
        "\n"
      ],
      "metadata": {
        "colab": {
          "base_uri": "https://localhost:8080/"
        },
        "id": "H-03ZLgzbsyX",
        "outputId": "536110b7-e031-4244-bb2a-caf300e07f84"
      },
      "execution_count": null,
      "outputs": [
        {
          "output_type": "stream",
          "name": "stdout",
          "text": [
            "['est']\n"
          ]
        }
      ]
    },
    {
      "cell_type": "code",
      "source": [
        "# 2. \\d\n",
        "# \\d returns a match where the string contains digits (numbers from 0-9).\n",
        "str = \"2 million monthly visits in Jan'19.\"\n",
        "\n",
        "#Check if the string contains any digits (numbers from 0-9):\n",
        "\n",
        "# x = re.findall(\"\\d\", str) #this code used for normal number searh but it will not show no together as 19 will show 1 and 9 so to avoide this we use (d+)\n",
        "x = re.findall(\"\\d+\", str)\n",
        "print(x)\n",
        "\n",
        "if (x):\n",
        "\n",
        "  print(\"Yes, there is at least one match!\")\n",
        "\n",
        "\n",
        "else:\n",
        "\n",
        "  print(\"No match\")\n"
      ],
      "metadata": {
        "colab": {
          "base_uri": "https://localhost:8080/"
        },
        "id": "uL2tlnwEdE6F",
        "outputId": "0ea1c883-92a7-422d-f757-89d963a1efcb"
      },
      "execution_count": null,
      "outputs": [
        {
          "output_type": "stream",
          "name": "stdout",
          "text": [
            "['2', '19']\n",
            "Yes, there is at least one match!\n"
          ]
        }
      ]
    },
    {
      "cell_type": "code",
      "source": [
        "# 3. \\D   #this code use to find that string nt cotain any digit\n",
        "# \\D returns a match where the string does not contain any digit. It is basically the opposite of \\d.\n",
        "str = \"2 million monthly visits in Jan'19.\"\n",
        "\n",
        "#Check if the word character does not contain any digits (numbers from 0-9):\n",
        "\n",
        "x = re.findall(\"\\D\", str)\n",
        "print(x)\n",
        "\n",
        "if (x):\n",
        "\n",
        "  print(\"Yes, there is at least one match!\")\n",
        "\n",
        "else:\n",
        "  print(\"No match\")\n"
      ],
      "metadata": {
        "colab": {
          "base_uri": "https://localhost:8080/"
        },
        "id": "6Txk9tfEe_8O",
        "outputId": "be7dba2d-46bd-4856-96b9-b87298834639"
      },
      "execution_count": null,
      "outputs": [
        {
          "output_type": "stream",
          "name": "stdout",
          "text": [
            "[' ', 'm', 'i', 'l', 'l', 'i', 'o', 'n', ' ', 'm', 'o', 'n', 't', 'h', 'l', 'y', ' ', 'v', 'i', 's', 'i', 't', 's', ' ', 'i', 'n', ' ', 'J', 'a', 'n', \"'\", '.']\n",
            "Yes, there is at least one match!\n"
          ]
        }
      ]
    },
    {
      "cell_type": "code",
      "source": [
        "import re\n",
        "text = \"I have an apple, and my friend has an apple too.\"\n",
        "#RE.FINDALL\n",
        "# Define the pattern\n",
        "pattern = r\"apple\"\n",
        "\n",
        "# Search for the pattern in the text\n",
        "matches = re.findall(pattern, text)\n",
        "\n",
        "# Print the matches\n",
        "print(matches)\n",
        "#---------------------------------------------------\n",
        "#RE.SEARCH\n",
        "text = \"The meeting is scheduled for 12/15/2023.\"\n",
        "\n",
        "# Define the date pattern\n",
        "date_pattern = r\"\\d{2}/\\d{2}/\\d{4}\"\n",
        "\n",
        "# Search for the pattern in the text\n",
        "match = re.search(date_pattern, text)\n",
        "\n",
        "# Print the matched date\n",
        "if match:\n",
        "    print(\"Matched Date:\", match.group())\n",
        "else:\n",
        "    print(\"No date found.\")\n",
        "\n",
        "\n",
        "\n"
      ],
      "metadata": {
        "colab": {
          "base_uri": "https://localhost:8080/"
        },
        "id": "Pd5UrHJRTjkp",
        "outputId": "cd344219-95cd-4903-b889-3a97311fcc6f"
      },
      "execution_count": null,
      "outputs": [
        {
          "output_type": "stream",
          "name": "stdout",
          "text": [
            "['apple', 'apple']\n",
            "Matched Date: 12/15/2023\n"
          ]
        }
      ]
    },
    {
      "cell_type": "code",
      "source": [],
      "metadata": {
        "id": "dNA6zwmXTjWi"
      },
      "execution_count": null,
      "outputs": []
    }
  ]
}